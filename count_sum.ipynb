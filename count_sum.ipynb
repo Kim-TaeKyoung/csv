{
  "nbformat": 4,
  "nbformat_minor": 0,
  "metadata": {
    "colab": {
      "name": "count_sum.ipynb",
      "provenance": [],
      "collapsed_sections": [],
      "mount_file_id": "1CkNpbmArvIvuavD31693Q64b7y3dDW8b",
      "authorship_tag": "ABX9TyOnh1/ivhZynHmCJ56m9eXG",
      "include_colab_link": true
    },
    "kernelspec": {
      "name": "python3",
      "display_name": "Python 3"
    },
    "language_info": {
      "name": "python"
    }
  },
  "cells": [
    {
      "cell_type": "markdown",
      "metadata": {
        "id": "view-in-github",
        "colab_type": "text"
      },
      "source": [
        "<a href=\"https://colab.research.google.com/github/Kim-TaeKyoung/csv/blob/main/count_sum.ipynb\" target=\"_parent\"><img src=\"https://colab.research.google.com/assets/colab-badge.svg\" alt=\"Open In Colab\"/></a>"
      ]
    },
    {
      "cell_type": "code",
      "metadata": {
        "id": "z0j1keOYgn6E"
      },
      "source": [
        "import pandas as pd\n",
        "# pd.set_option('display.max_columns', None)\n",
        "# pd.set_option('display.max_row', None)\n"
      ],
      "execution_count": null,
      "outputs": []
    },
    {
      "cell_type": "code",
      "metadata": {
        "id": "oZUeWKmTt-gA"
      },
      "source": [
        "PATH1 = '/content/drive/MyDrive/Colab/SummaryCSV/20211023-SummaryCSV.csv'\n",
        "PATH2 = '/content/drive/MyDrive/Colab/SummaryCSV/20211017-SummaryCSV.csv'\n",
        "PATH3 = '/content/drive/MyDrive/Colab/SummaryCSV/20211016-SummaryCSV.csv'\n",
        "PATH4 = '/content/drive/MyDrive/Colab/SummaryCSV/20211015-SummaryCSV.csv'\n",
        "PATH5 = '/content/drive/MyDrive/Colab/SummaryCSV/20211014-SummaryCSV.csv' ###\n",
        "PATH6 = '/content/drive/MyDrive/Colab/SummaryCSV/20211013-SummaryCSV.csv'\n",
        "PATH7 = '/content/drive/MyDrive/Colab/SummaryCSV/20211012-SummaryCSV.csv'\n",
        "\n",
        "\n",
        "a = pd.read_csv(PATH1)\n",
        "b = pd.read_csv(PATH2) \n",
        "c = pd.read_csv(PATH3) \n",
        "d = pd.read_csv(PATH4) \n",
        "e = pd.read_csv(PATH5) \n",
        "f = pd.read_csv(PATH6) \n",
        "g = pd.read_csv(PATH7) "
      ],
      "execution_count": null,
      "outputs": []
    },
    {
      "cell_type": "code",
      "metadata": {
        "id": "8kwG1rok2KGX"
      },
      "source": [
        "data = pd.concat([a,b,c,d,e,f,g])\n",
        "data = data[['ad_id_list','head_count','T_valid_count','T_front_count','T_valid_second','T_front_second','T_attention1_count',\t'T_attention2_count','T_attention1_second',\t'T_attention2_second']]\n",
        "data = data.dropna(axis=0)\n"
      ],
      "execution_count": null,
      "outputs": []
    },
    {
      "cell_type": "code",
      "metadata": {
        "colab": {
          "base_uri": "https://localhost:8080/",
          "height": 643
        },
        "id": "nPIcoo2H4tCQ",
        "outputId": "8962e1aa-1b0e-4bac-f986-dcd056e39851"
      },
      "source": [
        "#아이디올영버전 / 아이디올시니어버전 / 타코셔틀 / 바베큐셔틀\n",
        "result = data[data['ad_id_list'].str.contains('아이디올영버전')]\n",
        "result = young.groupby(by=['ad_id_list'], as_index=False).sum()\n",
        "result"
      ],
      "execution_count": null,
      "outputs": [
        {
          "output_type": "execute_result",
          "data": {
            "text/html": [
              "<div>\n",
              "<style scoped>\n",
              "    .dataframe tbody tr th:only-of-type {\n",
              "        vertical-align: middle;\n",
              "    }\n",
              "\n",
              "    .dataframe tbody tr th {\n",
              "        vertical-align: top;\n",
              "    }\n",
              "\n",
              "    .dataframe thead th {\n",
              "        text-align: right;\n",
              "    }\n",
              "</style>\n",
              "<table border=\"1\" class=\"dataframe\">\n",
              "  <thead>\n",
              "    <tr style=\"text-align: right;\">\n",
              "      <th></th>\n",
              "      <th>ad_id_list</th>\n",
              "      <th>head_count</th>\n",
              "      <th>T_valid_count</th>\n",
              "      <th>T_front_count</th>\n",
              "      <th>T_valid_second</th>\n",
              "      <th>T_front_second</th>\n",
              "      <th>T_attention1_count</th>\n",
              "      <th>T_attention2_count</th>\n",
              "      <th>T_attention1_second</th>\n",
              "      <th>T_attention2_second</th>\n",
              "    </tr>\n",
              "  </thead>\n",
              "  <tbody>\n",
              "    <tr>\n",
              "      <th>0</th>\n",
              "      <td>['아이디올시니어버전' '아이디올영버전']</td>\n",
              "      <td>811.0</td>\n",
              "      <td>381.0</td>\n",
              "      <td>328.0</td>\n",
              "      <td>847.30</td>\n",
              "      <td>630.30</td>\n",
              "      <td>121.0</td>\n",
              "      <td>28.0</td>\n",
              "      <td>276.10</td>\n",
              "      <td>176.34</td>\n",
              "    </tr>\n",
              "    <tr>\n",
              "      <th>1</th>\n",
              "      <td>['아이디올시니어버전' '앱닥터' '아이디올영버전' '타코셔틀']</td>\n",
              "      <td>416.0</td>\n",
              "      <td>214.0</td>\n",
              "      <td>172.0</td>\n",
              "      <td>409.44</td>\n",
              "      <td>276.11</td>\n",
              "      <td>38.0</td>\n",
              "      <td>8.0</td>\n",
              "      <td>83.79</td>\n",
              "      <td>41.67</td>\n",
              "    </tr>\n",
              "    <tr>\n",
              "      <th>2</th>\n",
              "      <td>['아이디올시니어버전' '앱닥터' '아이디올영버전']</td>\n",
              "      <td>18094.0</td>\n",
              "      <td>8703.0</td>\n",
              "      <td>7314.0</td>\n",
              "      <td>17601.93</td>\n",
              "      <td>11814.93</td>\n",
              "      <td>1994.0</td>\n",
              "      <td>319.0</td>\n",
              "      <td>3930.44</td>\n",
              "      <td>2345.89</td>\n",
              "    </tr>\n",
              "    <tr>\n",
              "      <th>3</th>\n",
              "      <td>['아이디올시니어버전' nan '아이디올영버전']</td>\n",
              "      <td>187.0</td>\n",
              "      <td>36.0</td>\n",
              "      <td>22.0</td>\n",
              "      <td>16.13</td>\n",
              "      <td>8.82</td>\n",
              "      <td>1.0</td>\n",
              "      <td>0.0</td>\n",
              "      <td>0.34</td>\n",
              "      <td>0.00</td>\n",
              "    </tr>\n",
              "    <tr>\n",
              "      <th>4</th>\n",
              "      <td>['아이디올영버전' '아이디올시니어버전']</td>\n",
              "      <td>290.0</td>\n",
              "      <td>77.0</td>\n",
              "      <td>58.0</td>\n",
              "      <td>62.19</td>\n",
              "      <td>40.46</td>\n",
              "      <td>12.0</td>\n",
              "      <td>0.0</td>\n",
              "      <td>11.31</td>\n",
              "      <td>0.00</td>\n",
              "    </tr>\n",
              "    <tr>\n",
              "      <th>5</th>\n",
              "      <td>['아이디올영버전' '타코셔틀' '바베큐셔틀' '아이디올시니어버전']</td>\n",
              "      <td>14627.0</td>\n",
              "      <td>6707.0</td>\n",
              "      <td>5591.0</td>\n",
              "      <td>13809.55</td>\n",
              "      <td>9147.60</td>\n",
              "      <td>1462.0</td>\n",
              "      <td>249.0</td>\n",
              "      <td>2808.35</td>\n",
              "      <td>1646.82</td>\n",
              "    </tr>\n",
              "    <tr>\n",
              "      <th>6</th>\n",
              "      <td>['아이디올영버전' nan '아이디올시니어버전']</td>\n",
              "      <td>145.0</td>\n",
              "      <td>104.0</td>\n",
              "      <td>95.0</td>\n",
              "      <td>221.57</td>\n",
              "      <td>157.33</td>\n",
              "      <td>22.0</td>\n",
              "      <td>2.0</td>\n",
              "      <td>27.96</td>\n",
              "      <td>7.79</td>\n",
              "    </tr>\n",
              "  </tbody>\n",
              "</table>\n",
              "</div>"
            ],
            "text/plain": [
              "                               ad_id_list  ...  T_attention2_second\n",
              "0                 ['아이디올시니어버전' '아이디올영버전']  ...               176.34\n",
              "1    ['아이디올시니어버전' '앱닥터' '아이디올영버전' '타코셔틀']  ...                41.67\n",
              "2           ['아이디올시니어버전' '앱닥터' '아이디올영버전']  ...              2345.89\n",
              "3             ['아이디올시니어버전' nan '아이디올영버전']  ...                 0.00\n",
              "4                 ['아이디올영버전' '아이디올시니어버전']  ...                 0.00\n",
              "5  ['아이디올영버전' '타코셔틀' '바베큐셔틀' '아이디올시니어버전']  ...              1646.82\n",
              "6             ['아이디올영버전' nan '아이디올시니어버전']  ...                 7.79\n",
              "\n",
              "[7 rows x 10 columns]"
            ]
          },
          "metadata": {},
          "execution_count": 30
        }
      ]
    },
    {
      "cell_type": "code",
      "metadata": {
        "colab": {
          "base_uri": "https://localhost:8080/"
        },
        "id": "f86GAyU06bZo",
        "outputId": "c169d0a1-e027-41d6-d4dd-98922d6339eb"
      },
      "source": [
        "result.sum(axis=0)"
      ],
      "execution_count": null,
      "outputs": [
        {
          "output_type": "execute_result",
          "data": {
            "text/plain": [
              "ad_id_list             ['아이디올시니어버전' '아이디올영버전']['아이디올시니어버전' '앱닥터' '아이디...\n",
              "head_count                                                         34570\n",
              "T_valid_count                                                      16222\n",
              "T_front_count                                                      13580\n",
              "T_valid_second                                                   32968.1\n",
              "T_front_second                                                   22075.5\n",
              "T_attention1_count                                                  3650\n",
              "T_attention2_count                                                   606\n",
              "T_attention1_second                                              7138.29\n",
              "T_attention2_second                                              4218.51\n",
              "dtype: object"
            ]
          },
          "metadata": {},
          "execution_count": 31
        }
      ]
    },
    {
      "cell_type": "code",
      "metadata": {
        "id": "4mK8kW_dySyD"
      },
      "source": [
        "# result_a = pd.concat([a,c])\n",
        "# result_a = result_a[['end_ad','head_count','T_attention1_count','T_attention2_count']]\n",
        "# result_a = result_a.groupby(by=['end_ad'], as_index=False).sum()\n",
        "# result_a.rename(columns={'end_ad':'ad_id_list'}, inplace=True)\n",
        "# result_a"
      ],
      "execution_count": null,
      "outputs": []
    },
    {
      "cell_type": "code",
      "metadata": {
        "id": "dUFi0reTpVzx"
      },
      "source": [
        "# result_b = pd.concat([b,d])\n",
        "# result_b = result_b[['ad_id_list','head_count','T_attention1_count','T_attention2_count']]\n",
        "# result_b = result_b.groupby(by=['ad_id_list'], as_index=False).sum()\n",
        "# result_b"
      ],
      "execution_count": null,
      "outputs": []
    },
    {
      "cell_type": "code",
      "metadata": {
        "id": "sqFZJi2Q47wr"
      },
      "source": [
        "# # 바베큐셔틀  c\n",
        "# result_c = pd.concat([e,f,g])\n",
        "# result_c = result_c[['ad_id_list','head_count','T_attention1_count','T_attention2_count']]\n",
        "# result_c = result_c[result_c['ad_id_list'].str.contains('바베큐셔틀')]\n",
        "# result_c = result_c.groupby(by=['ad_id_list'], as_index=False).sum()\n",
        "# result_c"
      ],
      "execution_count": null,
      "outputs": []
    },
    {
      "cell_type": "code",
      "metadata": {
        "id": "C9rTEwah5ART"
      },
      "source": [
        "# # 타코셔틀 d\n",
        "# result_d = pd.concat([e,f,g])\n",
        "# result_d = result_d[['ad_id_list','head_count','T_attention1_count','T_attention2_count']]\n",
        "# result_d = result_d[result_d['ad_id_list'].str.contains('타코셔틀')]\n",
        "# result_d = result_d.groupby(by=['ad_id_list'], as_index=False).sum()\n",
        "# result_d "
      ],
      "execution_count": null,
      "outputs": []
    },
    {
      "cell_type": "code",
      "metadata": {
        "id": "4w4KJKD40G4i"
      },
      "source": [
        "# # 아이디올영버전  a,b + e\n",
        "# result_e = pd.concat([e,f,g])\n",
        "# result_e = result_e[['ad_id_list','head_count','T_attention1_count','T_attention2_count']]\n",
        "# result_e = result_e[result_e['ad_id_list'].str.contains('아이디올영버전')]\n",
        "# result_e = result_e.groupby(by=['ad_id_list'], as_index=False).sum()\n",
        "# result_e"
      ],
      "execution_count": null,
      "outputs": []
    },
    {
      "cell_type": "code",
      "metadata": {
        "id": "UPUog5dM0el-"
      },
      "source": [
        "# # 아이디올시니어버전 a,b + f\n",
        "# result_f = pd.concat([e,f,g])\n",
        "# result_f = result_f[['ad_id_list','head_count','T_attention1_count','T_attention2_count']]\n",
        "# result_f = result_f[result_f['ad_id_list'].str.contains('아이디올시니어버전')]\n",
        "# result_f = result_f.groupby(by=['ad_id_list'], as_index=False).sum()\n",
        "# result_f"
      ],
      "execution_count": null,
      "outputs": []
    },
    {
      "cell_type": "code",
      "metadata": {
        "id": "qZaKyqQkuWiB"
      },
      "source": [
        "# # 타코셔틀 d\n",
        "# # 바베큐셔틀  c\n",
        "# # 아이디올시니어버전 a,b,f\n",
        "# # 아이디올영버전  a,b,e\n",
        "# old = pd.concat([result_a,result_b,result_f])\n",
        "# young = pd.concat([result_a,result_b,result_e])\n",
        "# bbq = result_c\n",
        "# taco = result_d\n",
        "# # result_g = result_e[result_e['ad_id_list'].str.contains('아이디올영버전')].reset_index(drop=True)"
      ],
      "execution_count": null,
      "outputs": []
    },
    {
      "cell_type": "code",
      "metadata": {
        "id": "LIEsMA086tSF"
      },
      "source": [
        "\n",
        "# x = old['head_count'].sum()\n",
        "# y = old['T_attention1_count'].sum()\n",
        "# z = old['T_attention2_count'].sum()\n",
        "\n",
        "# print(x,y,z)"
      ],
      "execution_count": null,
      "outputs": []
    },
    {
      "cell_type": "code",
      "metadata": {
        "id": "S0FksIGcrssX"
      },
      "source": [
        ""
      ],
      "execution_count": null,
      "outputs": []
    }
  ]
}