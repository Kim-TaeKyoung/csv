{
  "nbformat": 4,
  "nbformat_minor": 0,
  "metadata": {
    "accelerator": "GPU",
    "colab": {
      "name": "0. Alphapose with Heuristic applied",
      "provenance": [],
      "collapsed_sections": [],
      "machine_shape": "hm",
      "include_colab_link": true
    },
    "kernelspec": {
      "display_name": "Python 3",
      "name": "python3"
    }
  },
  "cells": [
    {
      "cell_type": "markdown",
      "metadata": {
        "id": "view-in-github",
        "colab_type": "text"
      },
      "source": [
        "<a href=\"https://colab.research.google.com/github/Kim-TaeKyoung/one/blob/main/0_Alphapose_with_Heuristic_applied.ipynb\" target=\"_parent\"><img src=\"https://colab.research.google.com/assets/colab-badge.svg\" alt=\"Open In Colab\"/></a>"
      ]
    },
    {
      "cell_type": "code",
      "metadata": {
        "colab": {
          "base_uri": "https://localhost:8080/"
        },
        "id": "sBctNqJYHpGZ",
        "outputId": "9a044c82-543d-4041-c314-1f7cf90aeaae"
      },
      "source": [
        "from google.colab import drive\n",
        "drive.mount('/content/drive')"
      ],
      "execution_count": null,
      "outputs": [
        {
          "output_type": "stream",
          "name": "stdout",
          "text": [
            "Mounted at /content/drive\n"
          ]
        }
      ]
    },
    {
      "cell_type": "code",
      "metadata": {
        "id": "6cxMU0dmlnCT"
      },
      "source": [
        "! pip install pyyaml==5.2\n",
        "! pip install scipy==1.1.0\n",
        "! pip install torch==1.2.0 torchvision==0.4.0\n",
        "! pip install pillow==6.2.2\n",
        "import torch\n",
        "print(torch.__version__)\n",
        "import yaml, scipy\n",
        "import os, sys\n",
        "print(yaml.__version__)\n",
        "print(scipy.__version__)"
      ],
      "execution_count": null,
      "outputs": []
    },
    {
      "cell_type": "code",
      "metadata": {
        "colab": {
          "base_uri": "https://localhost:8080/"
        },
        "id": "iWA_03xn-bt3",
        "outputId": "9fe11824-b725-4c3b-bd74-63b5d2cb2742"
      },
      "source": [
        "!apt install ffmpeg\n",
        "\n",
        "%env SHARED_DIR = /content/drive/MyDrive/Colab/\n",
        "%env ALPHAPOSE_DIR = /content/drive/MyDrive/Colab/AlphaPose\n",
        "sys.path.append(os.environ['ALPHAPOSE_DIR'])\n",
        "#!git clone https://github.com/MVIG-SJTU/AlphaPose.git $ALPHAPOSE_DIR"
      ],
      "execution_count": null,
      "outputs": [
        {
          "name": "stdout",
          "output_type": "stream",
          "text": [
            "Reading package lists... Done\n",
            "Building dependency tree       \n",
            "Reading state information... Done\n",
            "ffmpeg is already the newest version (7:3.4.8-0ubuntu0.2).\n",
            "0 upgraded, 0 newly installed, 0 to remove and 37 not upgraded.\n",
            "env: SHARED_DIR=/content/drive/MyDrive/Colab/\n",
            "env: ALPHAPOSE_DIR=/content/drive/MyDrive/Colab/AlphaPose\n"
          ]
        }
      ]
    },
    {
      "cell_type": "code",
      "metadata": {
        "colab": {
          "base_uri": "https://localhost:8080/"
        },
        "id": "ECjw6Cckb-yV",
        "outputId": "0c94eed4-1b70-4b9d-9c65-d9351a76fa0f"
      },
      "source": [
        "!pwd"
      ],
      "execution_count": null,
      "outputs": [
        {
          "name": "stdout",
          "output_type": "stream",
          "text": [
            "/content\n"
          ]
        }
      ]
    },
    {
      "cell_type": "code",
      "metadata": {
        "id": "3VBhQTOSoWab"
      },
      "source": [
        "!python -m pip install cython\n",
        "!apt-get install libyaml-dev\n",
        "\n",
        "print(os.getcwd())\n",
        "os.chdir(os.environ['ALPHAPOSE_DIR'])\n",
        "!python setup.py build develop"
      ],
      "execution_count": null,
      "outputs": []
    },
    {
      "cell_type": "code",
      "metadata": {
        "colab": {
          "base_uri": "https://localhost:8080/"
        },
        "id": "g01CIxumX3DK",
        "outputId": "8bbc9969-107d-4457-dda9-26145980012f"
      },
      "source": [
        "sys.path.append(os.environ['ALPHAPOSE_DIR'])\n",
        "os.environ['CSV_DIR'] = os.environ['SHARED_DIR'] + 'FieldTestCSV/AllCSVs/'\n",
        "os.environ['VIDEO_DIR'] = os.environ['SHARED_DIR'] + 'frames/'\n",
        "\n",
        "!echo $CSV_DIR\n",
        "!echo $VIDEO_DIR"
      ],
      "execution_count": null,
      "outputs": [
        {
          "name": "stdout",
          "output_type": "stream",
          "text": [
            "/content/drive/MyDrive/Colab/FieldTestCSV/AllCSVs/\n",
            "/content/drive/MyDrive/Colab/frames/\n"
          ]
        }
      ]
    },
    {
      "cell_type": "code",
      "metadata": {
        "id": "AZzYE_OGYM55"
      },
      "source": [
        "import os\n",
        "os.chdir(os.environ['VIDEO_DIR'])\n",
        "\n",
        "!find -type d -maxdepth 1"
      ],
      "execution_count": null,
      "outputs": []
    },
    {
      "cell_type": "code",
      "metadata": {
        "colab": {
          "base_uri": "https://localhost:8080/"
        },
        "id": "H4kbgfm7ZuCV",
        "outputId": "0f68e153-3232-4528-ff0e-fcef1b2b9860"
      },
      "source": [
        "#@title Use vis_fast if csv is only needed one\n",
        "%%writefile test.sh\n",
        "cd $ALPHAPOSE_DIR\n",
        "echo \"Cycle for ${TARGET_DATE}\"\n",
        "find $TARGET_DATE -type f -name '*.mp4' | while read -r FILENAME; do\n",
        "  echo \"Alphaposing now... : ${FILENAME}\"\n",
        "  CSV_FILE=$(echo \"${FILENAME}\" | sed \"s/mp4/csv/g\")\n",
        "  python3 scripts/demo_inference.py --detector tracker \\\n",
        "                                    --cfg configs/coco/resnet/256x192_res50_lr1e-3_1x.yaml \\\n",
        "                                    --checkpoint pretrained_models/fast_res50_256x192.pth \\\n",
        "                                    --video $FILENAME \\\n",
        "                                    --vis_fast\n",
        "                                    #--save_video\n",
        "  echo \"Saving Results to ${CSV_FILE}\"\n",
        "  mv examples/res/_heuristic $CSV_FILE\n",
        "done"
      ],
      "execution_count": null,
      "outputs": [
        {
          "name": "stdout",
          "output_type": "stream",
          "text": [
            "Overwriting test.sh\n"
          ]
        }
      ]
    },
    {
      "cell_type": "code",
      "metadata": {
        "colab": {
          "background_save": true
        },
        "id": "2571UX4WaMZp"
      },
      "source": [
        "#@title Subscript the output array to ranging out the target date\n",
        "import subprocess\n",
        "import os\n",
        "\n",
        "os.chdir(os.environ['VIDEO_DIR'])\n",
        "cmd = subprocess.Popen('find -type d -maxdepth 1', shell=True, stdout=subprocess.PIPE)\n",
        "os.chdir(os.environ['ALPHAPOSE_DIR'])\n",
        "\n",
        "output = list(cmd.stdout)\n",
        "\n",
        "for line in output[7:8]:\n",
        "  os.environ['TARGET_DATE'] = os.path.basename(line.decode().rstrip('\\n'))\n",
        "  os.environ['TARGET_DATE'] = os.environ['VIDEO_DIR'] + os.environ['TARGET_DATE']\n",
        "\n",
        "  ap = subprocess.Popen('sh test.sh', shell=True, stdout=subprocess.PIPE)\n",
        "  for line in ap.stdout:\n",
        "    print(line)"
      ],
      "execution_count": null,
      "outputs": []
    },
    {
      "cell_type": "code",
      "metadata": {
        "cellView": "form",
        "id": "EBRu1iy5Y8qo"
      },
      "source": [
        "#@title For Debugging purposes\n",
        "%env TARGET_DATE=2021_10_14\n",
        "os.environ['TARGET_DATE'] = os.environ['VIDEO_DIR'] + os.environ['TARGET_DATE']\n",
        "!echo $TARGET_DATE\n",
        "os.chdir(os.environ['ALPHAPOSE_DIR'])\n",
        "!pwd\n",
        "!sh ${ALPHAPOSE_DIR}test.sh"
      ],
      "execution_count": null,
      "outputs": []
    },
    {
      "cell_type": "code",
      "metadata": {
        "cellView": "form",
        "id": "V9tg0Z2RznSv"
      },
      "source": [
        "'''\n",
        "#@title In case of pretrained weights lost, uncomment this and run.\n",
        "!pip install -U -q PyDrive\n",
        "\n",
        "from pydrive.auth import GoogleAuth\n",
        "from pydrive.drive import GoogleDrive\n",
        "from google.colab import auth\n",
        "from oauth2client.client import GoogleCredentials\n",
        "# Authenticate and create the PyDrive client.\n",
        "# This only needs to be done once per notebook.\n",
        "auth.authenticate_user()\n",
        "gauth = GoogleAuth()\n",
        "gauth.credentials = GoogleCredentials.get_application_default()\n",
        "drive = GoogleDrive(gauth)\n",
        "\n",
        "! mkdir ${ALPHAPOSE_DIR}detector/yolo/data\n",
        "file_id = '1D47msNOOiJKvPOXlnpyzdKA3k6E97NTC'\n",
        "downloaded = drive.CreateFile({'id': file_id})\n",
        "downloaded.GetContentFile(os.environ['ALPHAPOSE_DIR'] + 'detector/yolo/data/yolov3-spp.weights')\n",
        "\n",
        "! mkdir ${ALPHAPOSE_DIR}detector/tracker/data\n",
        "file_id = '1nlnuYfGNuHWZztQHXwVZSL_FvfE551pA'\n",
        "downloaded = drive.CreateFile({'id': file_id})\n",
        "downloaded.GetContentFile(os.environ['ALPHAPOSE_DIR'] + 'detector/tracker/data/JDE-1088x608-uncertainty')\n",
        "\n",
        "os.rename(os.environ['ALPHAPOSE_DIR'] + 'detector/tracker/data/JDE-1088x608-uncertainty',\\\n",
        "          os.environ['ALPHAPOSE_DIR'] + 'detector/tracker/data/jde.1088x608.uncertainty.pt')\n",
        "\n",
        "file_id = '1kQhnMRURFiy7NsdS8EFL-8vtqEXOgECn'\n",
        "downloaded = drive.CreateFile({'id': file_id})\n",
        "downloaded.GetContentFile(os.environ['ALPHAPOSE_DIR'] + 'pretrained_models/fast_res50_256x192.pth')\n",
        "'''"
      ],
      "execution_count": null,
      "outputs": []
    }
  ]
}